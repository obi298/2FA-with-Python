{
 "cells": [
  {
   "cell_type": "code",
   "execution_count": null,
   "id": "0da0e5d1",
   "metadata": {},
   "outputs": [],
   "source": [
    "import pyotp\n",
    "import qrcode\n",
    "import getpass\n",
    "import time\n",
    "\n",
    "key = pyotp.random_base32()\n",
    "\n",
    "print(key)\n",
    "\n",
    "# Secret key will generated"
   ]
  },
  {
   "cell_type": "code",
   "execution_count": null,
   "id": "0408de61",
   "metadata": {},
   "outputs": [],
   "source": [
    "# Enter secret key \n",
    "\n",
    "key = ''\n",
    "\n",
    "totp = pyotp.TOTP(key)"
   ]
  },
  {
   "cell_type": "code",
   "execution_count": null,
   "id": "69c57368",
   "metadata": {},
   "outputs": [],
   "source": [
    "uri = pyotp.totp.TOTP(key).provisioning_uri(name= \"user\", issuer_name= \"Company\" )\n",
    "\n",
    "print(uri)\n",
    "\n",
    "qrcode.make(uri)\n",
    "\n",
    "# Enter the user's name and company name. The user's name and company name will show on the \n",
    "# authenticator app once you scan the QR code. You can scan the QR code using any authenticator app \n",
    "# of your choice such as Duo Mobile or Microsoft Authenticator."
   ]
  },
  {
   "cell_type": "code",
   "execution_count": null,
   "id": "87584e09",
   "metadata": {},
   "outputs": [],
   "source": [
    "# You will first be asked to enter a username and password. After that, you will be asked to enter a vefitication code from \n",
    "# your authenticator app and will be informed on whether the code is correct or not.\n",
    "\n",
    "input_username = input('Enter username: ')\n",
    "\n",
    "password = getpass.getpass(\"Enter password: \")\n",
    "\n",
    "input_code =  input(\"Enter verification code:\")\n",
    "\n",
    "totp.verify(input_code)\n",
    "\n",
    "print(totp.verify(input_code))\n",
    "\n",
    "time.sleep(30)"
   ]
  },
  {
   "cell_type": "code",
   "execution_count": null,
   "id": "2fb92bc2",
   "metadata": {},
   "outputs": [],
   "source": []
  },
  {
   "cell_type": "code",
   "execution_count": null,
   "id": "509f004b",
   "metadata": {},
   "outputs": [],
   "source": []
  }
 ],
 "metadata": {
  "kernelspec": {
   "display_name": "Python 3 (ipykernel)",
   "language": "python",
   "name": "python3"
  },
  "language_info": {
   "codemirror_mode": {
    "name": "ipython",
    "version": 3
   },
   "file_extension": ".py",
   "mimetype": "text/x-python",
   "name": "python",
   "nbconvert_exporter": "python",
   "pygments_lexer": "ipython3",
   "version": "3.11.7"
  }
 },
 "nbformat": 4,
 "nbformat_minor": 5
}
